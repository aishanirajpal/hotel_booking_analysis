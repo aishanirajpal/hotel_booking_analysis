{
  "cells": [
    {
      "cell_type": "markdown",
      "metadata": {},
      "source": [
        "# 2. Exploratory Data Analysis (EDA)\n",
        "\n",
        "This notebook focuses on **Task 1: Identify Key Observations**. We will analyze the cleaned dataset to uncover trends and patterns in hotel bookings.\n",
        "\n",
        "We will investigate:\n",
        "1.  Overall booking trends.\n",
        "2.  Booking patterns across different channels, room types, and star ratings.\n",
        "3.  Cancellation behavior and its characteristics.\n"
      ]
    },
    {
      "cell_type": "code",
      "execution_count": null,
      "metadata": {},
      "outputs": [],
      "source": [
        "# Libraries for data analysis and visualization\n",
        "import pandas as pd\n",
        "import matplotlib.pyplot as plt\n",
        "import seaborn as sns\n",
        "\n",
        "# Load the pre-processed dataset\n",
        "df = pd.read_csv('hotel_bookings_cleaned.csv')\n",
        "\n",
        "# Configure visualization styles for consistency\n",
        "sns.set_theme(style=\"whitegrid\", palette=\"viridis\")\n",
        "plt.style.use('seaborn-v0_8-whitegrid')\n",
        "\n",
        "print(\"Cleaned dataset 'hotel_bookings_cleaned.csv' loaded.\")\n",
        "display(df.head())\n"
      ]
    },
    {
      "cell_type": "markdown",
      "metadata": {},
      "source": [
        "### Booking Patterns: Channel, Room Type, and Star Rating\n"
      ]
    },
    {
      "cell_type": "code",
      "execution_count": null,
      "metadata": {},
      "outputs": [],
      "source": [
        "# --- Booking Distribution Overview ---\n",
        "fig, axes = plt.subplots(1, 3, figsize=(22, 7))\n",
        "fig.suptitle('High-Level Booking Distributions', fontsize=16)\n",
        "\n",
        "# 1. Bookings by Channel\n",
        "channel_data = df['booking_channel'].value_counts()\n",
        "sns.barplot(ax=axes[0], x=channel_data.index, y=channel_data.values)\n",
        "axes[0].set_title('Bookings by Channel')\n",
        "axes[0].set_xlabel('Booking Channel')\n",
        "axes[0].set_ylabel('Number of Bookings')\n",
        "axes[0].tick_params(axis='x', rotation=45)\n",
        "\n",
        "# 2. Bookings by Room Type\n",
        "room_data = df['room_type'].value_counts()\n",
        "axes[1].pie(room_data.values, labels=room_data.index, autopct='%1.1f%%', startangle=90)\n",
        "axes[1].set_title('Share of Bookings by Room Type')\n",
        "\n",
        "# 3. Bookings by Star Rating\n",
        "star_data = df['star_rating'].value_counts().sort_index()\n",
        "sns.barplot(ax=axes[2], x=star_data.index, y=star_data.values)\n",
        "axes[2].set_title('Bookings by Hotel Star Rating')\n",
        "axes[2].set_xlabel('Star Rating')\n",
        "axes[2].set_ylabel('Number of Bookings')\n",
        "\n",
        "plt.tight_layout(rect=[0, 0, 1, 0.96])\n",
        "plt.show()\n"
      ]
    },
    {
      "cell_type": "markdown",
      "metadata": {},
      "source": [
        "*   **Key Insight**: The vast majority of bookings come through 'Online Travel Agent', with 'Direct' bookings being the second most common. 3-star hotels are the most frequently booked, and 'Room_Type 1' is the dominant room choice. This suggests the core business revolves around mid-range, standard accommodations booked via online platforms.\n"
      ]
    },
    {
      "cell_type": "markdown",
      "metadata": {},
      "source": [
        "\n"
      ]
    },
    {
      "cell_type": "markdown",
      "metadata": {},
      "source": [
        "### Cancellation Behavior\n"
      ]
    },
    {
      "cell_type": "code",
      "execution_count": null,
      "metadata": {},
      "outputs": [],
      "source": [
        "# --- Cancellation Analysis ---\n",
        "\n",
        "# 1. Overall Cancellation Rate\n",
        "plt.figure(figsize=(7, 7))\n",
        "cancellation_data = df['is_cancelled'].value_counts()\n",
        "plt.pie(cancellation_data, labels=['Not Cancelled', 'Cancelled'], autopct='%1.1f%%', startangle=140, colors=['#5cb85c', '#d9534f'])\n",
        "plt.title('Overall Booking Cancellation Rate', fontsize=14)\n",
        "plt.ylabel('')\n",
        "plt.show()\n",
        "\n",
        "# 2. Cancellation Rates by Different Factors\n",
        "fig, axes = plt.subplots(1, 3, figsize=(22, 7))\n",
        "fig.suptitle('Cancellation Rates Across Different Segments', fontsize=16)\n",
        "\n",
        "# By Channel\n",
        "cancellation_by_channel = df.groupby('booking_channel')['is_cancelled'].mean().sort_values(ascending=False) * 100\n",
        "sns.barplot(ax=axes[0], x=cancellation_by_channel.index, y=cancellation_by_channel.values)\n",
        "axes[0].set_title('by Booking Channel')\n",
        "axes[0].set_xlabel('')\n",
        "axes[0].set_ylabel('Cancellation Rate (%)')\n",
        "axes[0].tick_params(axis='x', rotation=45)\n",
        "\n",
        "# By Room Type\n",
        "cancellation_by_room = df.groupby('room_type')['is_cancelled'].mean().sort_values(ascending=False) * 100\n",
        "sns.barplot(ax=axes[1], x=cancellation_by_room.index, y=cancellation_by_room.values)\n",
        "axes[1].set_title('by Room Type')\n",
        "axes[1].set_xlabel('')\n",
        "axes[1].set_ylabel('')\n",
        "axes[1].tick_params(axis='x', rotation=45)\n",
        "\n",
        "# By Star Rating\n",
        "cancellation_by_star = df.groupby('star_rating')['is_cancelled'].mean() * 100\n",
        "sns.barplot(ax=axes[2], x=cancellation_by_star.index, y=cancellation_by_star.values)\n",
        "axes[2].set_title('by Hotel Star Rating')\n",
        "axes[2].set_xlabel('Star Rating')\n",
        "axes[2].set_ylabel('')\n",
        "\n",
        "plt.tight_layout(rect=[0, 0, 1, 0.96])\n",
        "plt.show()\n"
      ]
    },
    {
      "cell_type": "markdown",
      "metadata": {},
      "source": [
        "*   **Key Insight**: Nearly one-third of all bookings are cancelled, representing a significant loss of potential revenue. The cancellation rate is highest for Online Travel Agents and for 5-star hotels. This suggests that the ease of booking/cancelling on OTAs and the higher price point of luxury hotels may contribute to less firm commitments from customers.\n"
      ]
    },
    {
      "cell_type": "markdown",
      "metadata": {},
      "source": [
        "\n"
      ]
    },
    {
      "cell_type": "markdown",
      "metadata": {},
      "source": [
        "### Seasonal and Temporal Trends\n"
      ]
    },
    {
      "cell_type": "code",
      "execution_count": null,
      "metadata": {},
      "outputs": [],
      "source": [
        "# --- Temporal Booking Analysis ---\n",
        "\n",
        "# 1. Monthly Trends in Bookings and Average Daily Rate (ADR)\n",
        "monthly_data = df.groupby('booking_month').agg(\n",
        "    total_bookings=('customer_id', 'count'),\n",
        "    average_adr=('avg_daily_rate', 'mean')\n",
        ").reset_index()\n",
        "\n",
        "fig, ax1 = plt.subplots(figsize=(14, 7))\n",
        "\n",
        "# Plotting total bookings\n",
        "color = 'tab:blue'\n",
        "ax1.set_xlabel('Month')\n",
        "ax1.set_ylabel('Total Bookings', color=color)\n",
        "ax1.plot(monthly_data['booking_month'], monthly_data['total_bookings'], color=color, marker='o', label='Total Bookings')\n",
        "ax1.tick_params(axis='y', labelcolor=color)\n",
        "ax1.set_xticks(range(1, 13))\n",
        "\n",
        "# Creating a second y-axis for the average ADR\n",
        "ax2 = ax1.twinx()\n",
        "color = 'tab:green'\n",
        "ax2.set_ylabel('Average Daily Rate (ADR)', color=color)\n",
        "ax2.plot(monthly_data['booking_month'], monthly_data['average_adr'], color=color, marker='x', linestyle='--', label='Average ADR')\n",
        "ax2.tick_params(axis='y', labelcolor=color)\n",
        "\n",
        "fig.tight_layout()\n",
        "plt.title('Monthly Bookings vs. Average Daily Rate', fontsize=16)\n",
        "plt.show()\n",
        "\n",
        "# 2. Bookings by Day of the Week\n",
        "plt.figure(figsize=(10, 6))\n",
        "dow_bookings = df['booking_day_of_week'].value_counts().sort_index()\n",
        "sns.barplot(x=dow_bookings.index, y=dow_bookings.values)\n",
        "plt.title('Bookings by Day of Week')\n",
        "plt.xlabel('Day of Week')\n",
        "plt.ylabel('Number of Bookings')\n",
        "plt.xticks(ticks=range(7), labels=['Mon', 'Tue', 'Wed', 'Thu', 'Fri', 'Sat', 'Sun'])\n",
        "plt.show()\n"
      ]
    },
    {
      "cell_type": "markdown",
      "metadata": {},
      "source": [
        "*   **Key Insight**: Booking volume and hotel prices (ADR) peak during the summer months (June-August) and again in December, clearly indicating seasonal demand. Bookings are distributed fairly evenly throughout the week, with a slight increase on Fridays. This suggests a mix of leisure (weekend) and business (weekday) travel.\n"
      ]
    }
  ],
  "metadata": {
    "language_info": {
      "name": "python"
    }
  },
  "nbformat": 4,
  "nbformat_minor": 2
}
