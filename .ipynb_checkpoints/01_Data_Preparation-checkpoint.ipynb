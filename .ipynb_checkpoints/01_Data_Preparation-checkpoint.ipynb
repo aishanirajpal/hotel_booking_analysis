{
  "cells": [
    {
      "cell_type": "markdown",
      "metadata": {},
      "source": [
        "# 1. Data Preparation\n",
        "\n",
        "This notebook covers the initial data preparation steps:\n",
        "1.  Loading the dataset.\n",
        "2.  Inspecting the data for quality issues.\n",
        "3.  Cleaning the data (handling missing values, duplicates).\n",
        "4.  Performing feature engineering.\n",
        "5.  Saving the cleaned dataset for further analysis.\n"
      ]
    },
    {
      "cell_type": "code",
      "execution_count": null,
      "metadata": {},
      "outputs": [],
      "source": [
        "# Essential libraries for data manipulation\n",
        "import pandas as pd\n",
        "import numpy as np\n",
        "\n",
        "# Adjust display settings for better dataframe visibility\n",
        "pd.set_option('display.max_columns', None)\n",
        "\n",
        "# Load the raw dataset from the CSV file\n",
        "print(\"Loading 'Hotel_bookings_final.csv'...\")\n",
        "df = pd.read_csv('Hotel_bookings_final.csv')\n",
        "print(\"Dataset loaded successfully.\")\n",
        "\n",
        "# --- Initial Inspection ---\n",
        "print(\"\\n--- Data Overview ---\")\n",
        "df.info()\n",
        "\n",
        "print(\"\\n--- First 5 Rows ---\")\n",
        "display(df.head())\n"
      ]
    },
    {
      "cell_type": "code",
      "execution_count": null,
      "metadata": {},
      "outputs": [],
      "source": [
        "# --- Data Cleaning ---\n",
        "\n",
        "# 1. Handling Missing Values\n",
        "print(\"--- Missing Value Check ---\")\n",
        "missing_values = df.isnull().sum()\n",
        "print(missing_values[missing_values > 0])\n",
        "\n",
        "# The number of missing values is small, so we'll drop the rows.\n",
        "if df.isnull().sum().sum() > 0:\n",
        "    df.dropna(inplace=True)\n",
        "    print(\"\\nRows with missing values have been removed.\")\n",
        "\n",
        "# 2. Handling Duplicates\n",
        "print(\"\\n--- Duplicate Row Check ---\")\n",
        "duplicate_rows = df.duplicated().sum()\n",
        "print(f\"Found {duplicate_rows} duplicate rows.\")\n",
        "\n",
        "if duplicate_rows > 0:\n",
        "    df.drop_duplicates(inplace=True)\n",
        "    print(\"Duplicate rows have been removed.\")\n",
        "\n",
        "print(f\"\\nShape of the dataframe after cleaning: {df.shape}\")\n"
      ]
    },
    {
      "cell_type": "code",
      "execution_count": null,
      "metadata": {},
      "outputs": [],
      "source": [
        "# --- Feature Engineering ---\n",
        "# Create new columns that will be useful for analysis.\n",
        "\n",
        "# Convert 'booking_date' to a proper datetime object\n",
        "if not pd.api.types.is_datetime64_any_dtype(df['booking_date']):\n",
        "    df['booking_date'] = pd.to_datetime(df['booking_date'])\n",
        "\n",
        "# Extract temporal features for seasonal analysis\n",
        "print(\"Extracting date components (year, month, day of week)...\")\n",
        "df['booking_year'] = df['booking_date'].dt.year\n",
        "df['booking_month'] = df['booking_date'].dt.month\n",
        "df['booking_day_of_week'] = df['booking_date'].dt.dayofweek\n",
        "\n",
        "# Calculate the total booking value for profitability analysis\n",
        "print(\"Calculating 'total_booking_value'...\")\n",
        "df['total_booking_value'] = df['avg_daily_rate'] * df['length_of_stay']\n",
        "\n",
        "print(\"\\nFeature engineering complete. Preview of new columns:\")\n",
        "display(df[['booking_date', 'booking_year', 'booking_month', 'booking_day_of_week', 'total_booking_value']].head())\n"
      ]
    },
    {
      "cell_type": "code",
      "execution_count": null,
      "metadata": {},
      "outputs": [],
      "source": [
        "# --- Save Cleaned Data ---\n",
        "# The prepared data is saved to a new file to separate the cleaning\n",
        "# process from the analysis phase.\n",
        "\n",
        "output_filename = 'hotel_bookings_cleaned.csv'\n",
        "df.to_csv(output_filename, index=False)\n",
        "\n",
        "print(f\"Data preparation complete.\")\n",
        "print(f\"Cleaned and feature-engineered data saved to '{output_filename}'.\")\n",
        "print(f\"Final shape: {df.shape}\")\n"
      ]
    }
  ],
  "metadata": {
    "language_info": {
      "name": "python"
    }
  },
  "nbformat": 4,
  "nbformat_minor": 2
}
