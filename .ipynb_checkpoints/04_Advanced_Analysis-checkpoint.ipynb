{
  "cells": [
    {
      "cell_type": "markdown",
      "metadata": {},
      "source": [
        "# 4. Advanced Analysis & Strategic Segmentation\n",
        "\n",
        "**Objective**: To build upon the initial findings with more advanced techniques that provide unique, actionable insights.\n",
        "\n",
        "In this notebook, we will:\n",
        "1.  **Visualize Revenue Interactively**: Create a treemap to understand the complex relationship between channels, hotel ratings, and revenue.\n",
        "2.  **Develop a Cancellation Risk Score**: Quantify the cancellation risk for each booking to enable proactive intervention.\n",
        "3.  **Identify and Profile High-Value Guests**: Define what a \"high-value\" guest looks like to inform marketing and retention strategies.\n"
      ]
    },
    {
      "cell_type": "code",
      "execution_count": null,
      "metadata": {},
      "outputs": [],
      "source": [
        "import pandas as pd\n",
        "import plotly.express as px\n",
        "import seaborn as sns\n",
        "import matplotlib.pyplot as plt\n",
        "\n",
        "df = pd.read_csv('hotel_bookings_cleaned.csv')\n",
        "\n",
        "sns.set_theme(style=\"whitegrid\", palette=\"viridis\")\n",
        "plt.style.use('seaborn-v0_8-whitegrid')\n",
        "\n",
        "display(df.head(3))\n"
      ]
    },
    {
      "cell_type": "markdown",
      "metadata": {},
      "source": [
        "### 1. Interactive Revenue Treemap\n",
        "\n",
        "A treemap is a powerful way to visualize hierarchical data. Here, we can see the total revenue (`total_booking_value`) broken down by the primary `booking_channel` and then by the `star_rating` within each channel. This provides a clear, at-a-glance view of where the most revenue is generated.\n",
        "\n",
        "**Instructions**: Hover over the rectangles to see the details. You can also click on a channel to zoom in.\n"
      ]
    },
    {
      "cell_type": "code",
      "execution_count": null,
      "metadata": {},
      "outputs": [],
      "source": [
        "df_confirmed = df[df['is_cancelled'] == 0]\n",
        "\n",
        "fig = px.treemap(df_confirmed, \n",
        "                 path=[px.Constant(\"All Channels\"), 'booking_channel', 'star_rating'], \n",
        "                 values='booking_value',\n",
        "                 color='avg_daily_rate',\n",
        "                 hover_data=['star_rating'],\n",
        "                 color_continuous_scale='YlGnBu',\n",
        "                 title='Hierarchical View of Revenue by Channel and Star Rating')\n",
        "\n",
        "fig.update_layout(margin = dict(t=50, l=25, r=25, b=25))\n",
        "fig.show()\n"
      ]
    },
    {
      "cell_type": "markdown",
      "metadata": {},
      "source": [
        "### 2. Cancellation Risk Score\n",
        "\n",
        "To make our analysis more actionable, we can create a `CancellationRiskScore`. This is a simple, rule-based score that quantifies how likely a booking is to be cancelled based on the risk factors we've identified.\n",
        "\n",
        "**Scoring Logic**:\n",
        "*   **Lead Time**: +1 point if booked > 90 days in advance.\n",
        "*   **Channel**: +1 point if booked via 'Online Travel Agent'.\n",
        "*   **Hotel Tier**: +1 point if it's a 5-star hotel.\n",
        "\n",
        "A higher score indicates a higher risk of cancellation.\n"
      ]
    },
    {
      "cell_type": "code",
      "execution_count": null,
      "metadata": {},
      "outputs": [],
      "source": [
        "def calculate_risk_score(row):\n",
        "    score = 0\n",
        "    # Calculate days before check-in from booking_date and check_in_date\n",
        "    days_before_checkin = (row['check_in_date'] - row['booking_date']).days\n",
        "    if days_before_checkin > 90:\n",
        "        score += 1\n",
        "    if row['booking_channel'] == 'Online Travel Agent':\n",
        "        score += 1\n",
        "    if row['star_rating'] == 5:\n",
        "        score += 1\n",
        "    return score\n",
        "\n",
        "df['CancellationRiskScore'] = df.apply(calculate_risk_score, axis=1)\n",
        "\n",
        "risk_analysis = df.groupby('CancellationRiskScore')['is_cancelled'].mean() * 100\n",
        "\n",
        "plt.figure(figsize=(10, 6))\n",
        "risk_analysis.plot(kind='bar', color='salmon')\n",
        "plt.title('Cancellation Rate Increases with Risk Score')\n",
        "plt.xlabel('Cancellation Risk Score')\n",
        "plt.ylabel('Actual Cancellation Rate (%)')\n",
        "plt.xticks(rotation=0)\n",
        "plt.grid(axis='y', linestyle='--')\n",
        "plt.show()\n"
      ]
    },
    {
      "cell_type": "markdown",
      "metadata": {},
      "source": [
        "### 3. High-Value Guest Profile\n",
        "\n",
        "Finally, let's identify our \"ideal\" or \"high-value\" guests. These are customers who bring in significant revenue and have a low risk of cancelling.\n",
        "\n",
        "**Definition**:\n",
        "*   **Confirmed Booking**: `is_cancelled == 0`\n",
        "*   **High Revenue**: `total_booking_value` is in the top 25% (75th percentile) of all bookings.\n",
        "\n",
        "By analyzing the characteristics of this group, we can create a profile to target in marketing campaigns.\n"
      ]
    },
    {
      "cell_type": "code",
      "execution_count": null,
      "metadata": {},
      "outputs": [],
      "source": [
        "revenue_threshold = df['booking_value'].quantile(0.75)\n",
        "\n",
        "high_value_guests = df[\n",
        "    (df['is_cancelled'] == 0) & \n",
        "    (df['booking_value'] >= revenue_threshold)\n",
        "]\n",
        "\n",
        "fig, axes = plt.subplots(1, 3, figsize=(22, 7))\n",
        "fig.suptitle('Profile of High-Value Guests', fontsize=16)\n",
        "\n",
        "sns.countplot(ax=axes[0], data=high_value_guests, x='booking_channel', order=df['booking_channel'].value_counts().index)\n",
        "axes[0].set_title('Booking Channel')\n",
        "axes[0].tick_params(axis='x', rotation=45)\n",
        "\n",
        "sns.countplot(ax=axes[1], data=high_value_guests, x='star_rating')\n",
        "axes[1].set_title('Hotel Star Rating')\n",
        "\n",
        "sns.histplot(high_value_guests['length_of_stay'], ax=axes[2], bins=15, kde=True)\n",
        "axes[2].set_title('Length of Stay')\n",
        "axes[2].set_xlim(0, 15)\n",
        "\n",
        "plt.tight_layout(rect=[0, 0, 1, 0.96])\n",
        "plt.show()\n"
      ]
    }
  ],
  "metadata": {
    "language_info": {
      "name": "python"
    }
  },
  "nbformat": 4,
  "nbformat_minor": 2
}
