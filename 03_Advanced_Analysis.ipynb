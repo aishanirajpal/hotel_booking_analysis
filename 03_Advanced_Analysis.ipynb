{
 "cells": [
  {
   "cell_type": "markdown",
   "metadata": {},
   "source": [
    "# 3. Advanced Analysis & Strategic Segmentation\n",
    "\n",
    "**Objective**: To build upon the initial findings with more advanced techniques that provide unique, actionable insights.\n",
    "\n",
    "In this notebook, we will:\n",
    "1.  **Visualize Revenue Interactively**: Create a treemap to understand the complex relationship between channels, hotel ratings, and revenue.\n",
    "2.  **Develop a Cancellation Risk Score**: Quantify the cancellation risk for each booking to enable proactive intervention.\n",
    "3.  **Identify and Profile High-Value Guests**: Define what a \"high-value\" guest looks like to inform marketing and retention strategies.\n"
   ]
  },
  {
   "cell_type": "code",
   "execution_count": 1,
   "metadata": {},
   "outputs": [
    {
     "data": {
      "text/html": [
       "<div>\n",
       "<style scoped>\n",
       "    .dataframe tbody tr th:only-of-type {\n",
       "        vertical-align: middle;\n",
       "    }\n",
       "\n",
       "    .dataframe tbody tr th {\n",
       "        vertical-align: top;\n",
       "    }\n",
       "\n",
       "    .dataframe thead th {\n",
       "        text-align: right;\n",
       "    }\n",
       "</style>\n",
       "<table border=\"1\" class=\"dataframe\">\n",
       "  <thead>\n",
       "    <tr style=\"text-align: right;\">\n",
       "      <th></th>\n",
       "      <th>customer_id</th>\n",
       "      <th>property_id</th>\n",
       "      <th>city</th>\n",
       "      <th>star_rating</th>\n",
       "      <th>booking_date</th>\n",
       "      <th>check_in_date</th>\n",
       "      <th>check_out_date</th>\n",
       "      <th>room_type</th>\n",
       "      <th>num_rooms_booked</th>\n",
       "      <th>stay_type</th>\n",
       "      <th>...</th>\n",
       "      <th>travel_date</th>\n",
       "      <th>cashback</th>\n",
       "      <th>coupon_redeem</th>\n",
       "      <th>Coupon USed?</th>\n",
       "      <th>length_of_stay</th>\n",
       "      <th>is_cancelled</th>\n",
       "      <th>avg_daily_rate</th>\n",
       "      <th>booking_year</th>\n",
       "      <th>booking_month</th>\n",
       "      <th>booking_day_of_week</th>\n",
       "    </tr>\n",
       "  </thead>\n",
       "  <tbody>\n",
       "    <tr>\n",
       "      <th>0</th>\n",
       "      <td>492</td>\n",
       "      <td>3</td>\n",
       "      <td>San Francisco</td>\n",
       "      <td>4</td>\n",
       "      <td>2024-04-01</td>\n",
       "      <td>2024-05-24</td>\n",
       "      <td>2024-05-26</td>\n",
       "      <td>Standard</td>\n",
       "      <td>1</td>\n",
       "      <td>Leisure</td>\n",
       "      <td>...</td>\n",
       "      <td>2024-03-04</td>\n",
       "      <td>5.374694</td>\n",
       "      <td>0.0</td>\n",
       "      <td>No</td>\n",
       "      <td>2.0</td>\n",
       "      <td>0</td>\n",
       "      <td>9680.495160</td>\n",
       "      <td>2024</td>\n",
       "      <td>4</td>\n",
       "      <td>0</td>\n",
       "    </tr>\n",
       "    <tr>\n",
       "      <th>1</th>\n",
       "      <td>180</td>\n",
       "      <td>3</td>\n",
       "      <td>Dallas</td>\n",
       "      <td>3</td>\n",
       "      <td>2024-04-01</td>\n",
       "      <td>2024-05-10</td>\n",
       "      <td>2024-05-17</td>\n",
       "      <td>Deluxe</td>\n",
       "      <td>1</td>\n",
       "      <td>Leisure</td>\n",
       "      <td>...</td>\n",
       "      <td>2024-07-19</td>\n",
       "      <td>7.161033</td>\n",
       "      <td>0.0</td>\n",
       "      <td>No</td>\n",
       "      <td>7.0</td>\n",
       "      <td>0</td>\n",
       "      <td>876.714160</td>\n",
       "      <td>2024</td>\n",
       "      <td>4</td>\n",
       "      <td>0</td>\n",
       "    </tr>\n",
       "    <tr>\n",
       "      <th>2</th>\n",
       "      <td>50</td>\n",
       "      <td>5</td>\n",
       "      <td>Dallas</td>\n",
       "      <td>3</td>\n",
       "      <td>2024-04-01</td>\n",
       "      <td>2024-05-31</td>\n",
       "      <td>2024-06-05</td>\n",
       "      <td>Deluxe</td>\n",
       "      <td>1</td>\n",
       "      <td>Business</td>\n",
       "      <td>...</td>\n",
       "      <td>2024-03-22</td>\n",
       "      <td>0.000000</td>\n",
       "      <td>0.0</td>\n",
       "      <td>No</td>\n",
       "      <td>5.0</td>\n",
       "      <td>0</td>\n",
       "      <td>4540.399092</td>\n",
       "      <td>2024</td>\n",
       "      <td>4</td>\n",
       "      <td>0</td>\n",
       "    </tr>\n",
       "  </tbody>\n",
       "</table>\n",
       "<p>3 rows × 30 columns</p>\n",
       "</div>"
      ],
      "text/plain": [
       "   customer_id  property_id           city  star_rating booking_date  \\\n",
       "0          492            3  San Francisco            4   2024-04-01   \n",
       "1          180            3         Dallas            3   2024-04-01   \n",
       "2           50            5         Dallas            3   2024-04-01   \n",
       "\n",
       "  check_in_date check_out_date room_type  num_rooms_booked stay_type  ...  \\\n",
       "0    2024-05-24     2024-05-26  Standard                 1   Leisure  ...   \n",
       "1    2024-05-10     2024-05-17    Deluxe                 1   Leisure  ...   \n",
       "2    2024-05-31     2024-06-05    Deluxe                 1  Business  ...   \n",
       "\n",
       "  travel_date  cashback  coupon_redeem  Coupon USed?  length_of_stay  \\\n",
       "0  2024-03-04  5.374694            0.0            No             2.0   \n",
       "1  2024-07-19  7.161033            0.0            No             7.0   \n",
       "2  2024-03-22  0.000000            0.0            No             5.0   \n",
       "\n",
       "  is_cancelled avg_daily_rate  booking_year booking_month booking_day_of_week  \n",
       "0            0    9680.495160          2024             4                   0  \n",
       "1            0     876.714160          2024             4                   0  \n",
       "2            0    4540.399092          2024             4                   0  \n",
       "\n",
       "[3 rows x 30 columns]"
      ]
     },
     "metadata": {},
     "output_type": "display_data"
    }
   ],
   "source": [
    "import pandas as pd\n",
    "import plotly.express as px\n",
    "import seaborn as sns\n",
    "import matplotlib.pyplot as plt\n",
    "\n",
    "df = pd.read_csv('hotel_bookings_cleaned.csv')\n",
    "\n",
    "sns.set_theme(style=\"whitegrid\", palette=\"viridis\")\n",
    "plt.style.use('seaborn-v0_8-whitegrid')\n",
    "\n",
    "display(df.head(3))\n"
   ]
  },
  {
   "cell_type": "markdown",
   "metadata": {},
   "source": [
    "### 1. Interactive Revenue Treemap\n",
    "\n",
    "Here, we can see the total revenue (`total_booking_value`) broken down by the primary `booking_channel` and then by the `star_rating` within each channel. This provides a clear, at-a-glance view of where the most revenue is generated.\n",
    "\n",
    "**Instructions**: Hover over the rectangles to see the details. You can also click on a channel to zoom in.\n"
   ]
  },
  {
   "cell_type": "code",
   "execution_count": 2,
   "metadata": {},
   "outputs": [
    {
     "data": {
      "application/vnd.plotly.v1+json": {
       "config": {
        "plotlyServerURL": "https://plot.ly"
       },
       "data": [
        {
         "branchvalues": "total",
         "customdata": [
          [
           "4",
           9845.691700780542
          ],
          [
           "3",
           9427.879657651089
          ],
          [
           "3",
           12326.532257445946
          ],
          [
           "4",
           12396.044070044232
          ],
          [
           "2",
           11856.144009356816
          ],
          [
           "5",
           12682.406412183811
          ],
          [
           "2",
           9722.2969653108
          ],
          [
           "5",
           9192.446785473656
          ],
          [
           "4",
           10719.57937003407
          ],
          [
           "3",
           11688.750264240945
          ],
          [
           "5",
           10688.493364827587
          ],
          [
           "2",
           10216.03890235326
          ],
          [
           "(?)",
           9591.748652864202
          ],
          [
           "(?)",
           12363.350261811283
          ],
          [
           "(?)",
           11011.240898274702
          ],
          [
           "(?)",
           11318.611679039132
          ]
         ],
         "domain": {
          "x": [
           0,
           1
          ],
          "y": [
           0,
           1
          ]
         },
         "hovertemplate": "labels=%{label}<br>booking_value=%{value}<br>parent=%{parent}<br>id=%{id}<br>star_rating=%{customdata[0]}<br>avg_daily_rate=%{color}<extra></extra>",
         "ids": [
          "All Channels/Mobile App/4",
          "All Channels/Mobile App/3",
          "All Channels/Web/3",
          "All Channels/Web/4",
          "All Channels/Web/2",
          "All Channels/Web/5",
          "All Channels/Mobile App/2",
          "All Channels/Mobile App/5",
          "All Channels/Travel Agent/4",
          "All Channels/Travel Agent/3",
          "All Channels/Travel Agent/5",
          "All Channels/Travel Agent/2",
          "All Channels/Mobile App",
          "All Channels/Web",
          "All Channels/Travel Agent",
          "All Channels"
         ],
         "labels": [
          "4",
          "3",
          "3",
          "4",
          "2",
          "5",
          "2",
          "5",
          "4",
          "3",
          "5",
          "2",
          "Mobile App",
          "Web",
          "Travel Agent",
          "All Channels"
         ],
         "marker": {
          "coloraxis": "coloraxis",
          "colors": {
           "bdata": "hrOmidg6w0CNNZ+Y8GnCQLIRAyFEE8hAW1MWpAU2yEDsCuZuEijHQBV/UAU0xchA95T1Aib9wkDXMkQwOfTBQE4azCjK78RAHJ2oCGDUxkC+I5QmP+DEQH+XwPoE9MNA52fb09+7wkBACGHVrCXIQMExwdWegcVAXK5/S04bxkA=",
           "dtype": "f8"
          }
         },
         "name": "",
         "parents": [
          "All Channels/Mobile App",
          "All Channels/Mobile App",
          "All Channels/Web",
          "All Channels/Web",
          "All Channels/Web",
          "All Channels/Web",
          "All Channels/Mobile App",
          "All Channels/Mobile App",
          "All Channels/Travel Agent",
          "All Channels/Travel Agent",
          "All Channels/Travel Agent",
          "All Channels/Travel Agent",
          "All Channels",
          "All Channels",
          "All Channels",
          ""
         ],
         "type": "treemap",
         "values": {
          "bdata": "7FG4ON4Ck0HsUbhX8N+QQVK4Hi8juJxBAAAAdehpoEFmZmYkYQKAQYXrUXzEWYlBSOF6OCWsc0GamZnlyRd7QbgehdcINnRBpHA9+tU6cUEfhesRgzJbQcP1KKxXB1JBSOH6K+XJp0FSuF66gY60QQrXo8CqX4hB7FE41LS/wUE=",
          "dtype": "f8"
         }
        }
       ],
       "layout": {
        "coloraxis": {
         "colorbar": {
          "title": {
           "text": "avg_daily_rate"
          }
         },
         "colorscale": [
          [
           0,
           "rgb(255,255,217)"
          ],
          [
           0.125,
           "rgb(237,248,177)"
          ],
          [
           0.25,
           "rgb(199,233,180)"
          ],
          [
           0.375,
           "rgb(127,205,187)"
          ],
          [
           0.5,
           "rgb(65,182,196)"
          ],
          [
           0.625,
           "rgb(29,145,192)"
          ],
          [
           0.75,
           "rgb(34,94,168)"
          ],
          [
           0.875,
           "rgb(37,52,148)"
          ],
          [
           1,
           "rgb(8,29,88)"
          ]
         ]
        },
        "legend": {
         "tracegroupgap": 0
        },
        "margin": {
         "b": 25,
         "l": 25,
         "r": 25,
         "t": 50
        },
        "template": {
         "data": {
          "bar": [
           {
            "error_x": {
             "color": "#2a3f5f"
            },
            "error_y": {
             "color": "#2a3f5f"
            },
            "marker": {
             "line": {
              "color": "#E5ECF6",
              "width": 0.5
             },
             "pattern": {
              "fillmode": "overlay",
              "size": 10,
              "solidity": 0.2
             }
            },
            "type": "bar"
           }
          ],
          "barpolar": [
           {
            "marker": {
             "line": {
              "color": "#E5ECF6",
              "width": 0.5
             },
             "pattern": {
              "fillmode": "overlay",
              "size": 10,
              "solidity": 0.2
             }
            },
            "type": "barpolar"
           }
          ],
          "carpet": [
           {
            "aaxis": {
             "endlinecolor": "#2a3f5f",
             "gridcolor": "white",
             "linecolor": "white",
             "minorgridcolor": "white",
             "startlinecolor": "#2a3f5f"
            },
            "baxis": {
             "endlinecolor": "#2a3f5f",
             "gridcolor": "white",
             "linecolor": "white",
             "minorgridcolor": "white",
             "startlinecolor": "#2a3f5f"
            },
            "type": "carpet"
           }
          ],
          "choropleth": [
           {
            "colorbar": {
             "outlinewidth": 0,
             "ticks": ""
            },
            "type": "choropleth"
           }
          ],
          "contour": [
           {
            "colorbar": {
             "outlinewidth": 0,
             "ticks": ""
            },
            "colorscale": [
             [
              0,
              "#0d0887"
             ],
             [
              0.1111111111111111,
              "#46039f"
             ],
             [
              0.2222222222222222,
              "#7201a8"
             ],
             [
              0.3333333333333333,
              "#9c179e"
             ],
             [
              0.4444444444444444,
              "#bd3786"
             ],
             [
              0.5555555555555556,
              "#d8576b"
             ],
             [
              0.6666666666666666,
              "#ed7953"
             ],
             [
              0.7777777777777778,
              "#fb9f3a"
             ],
             [
              0.8888888888888888,
              "#fdca26"
             ],
             [
              1,
              "#f0f921"
             ]
            ],
            "type": "contour"
           }
          ],
          "contourcarpet": [
           {
            "colorbar": {
             "outlinewidth": 0,
             "ticks": ""
            },
            "type": "contourcarpet"
           }
          ],
          "heatmap": [
           {
            "colorbar": {
             "outlinewidth": 0,
             "ticks": ""
            },
            "colorscale": [
             [
              0,
              "#0d0887"
             ],
             [
              0.1111111111111111,
              "#46039f"
             ],
             [
              0.2222222222222222,
              "#7201a8"
             ],
             [
              0.3333333333333333,
              "#9c179e"
             ],
             [
              0.4444444444444444,
              "#bd3786"
             ],
             [
              0.5555555555555556,
              "#d8576b"
             ],
             [
              0.6666666666666666,
              "#ed7953"
             ],
             [
              0.7777777777777778,
              "#fb9f3a"
             ],
             [
              0.8888888888888888,
              "#fdca26"
             ],
             [
              1,
              "#f0f921"
             ]
            ],
            "type": "heatmap"
           }
          ],
          "histogram": [
           {
            "marker": {
             "pattern": {
              "fillmode": "overlay",
              "size": 10,
              "solidity": 0.2
             }
            },
            "type": "histogram"
           }
          ],
          "histogram2d": [
           {
            "colorbar": {
             "outlinewidth": 0,
             "ticks": ""
            },
            "colorscale": [
             [
              0,
              "#0d0887"
             ],
             [
              0.1111111111111111,
              "#46039f"
             ],
             [
              0.2222222222222222,
              "#7201a8"
             ],
             [
              0.3333333333333333,
              "#9c179e"
             ],
             [
              0.4444444444444444,
              "#bd3786"
             ],
             [
              0.5555555555555556,
              "#d8576b"
             ],
             [
              0.6666666666666666,
              "#ed7953"
             ],
             [
              0.7777777777777778,
              "#fb9f3a"
             ],
             [
              0.8888888888888888,
              "#fdca26"
             ],
             [
              1,
              "#f0f921"
             ]
            ],
            "type": "histogram2d"
           }
          ],
          "histogram2dcontour": [
           {
            "colorbar": {
             "outlinewidth": 0,
             "ticks": ""
            },
            "colorscale": [
             [
              0,
              "#0d0887"
             ],
             [
              0.1111111111111111,
              "#46039f"
             ],
             [
              0.2222222222222222,
              "#7201a8"
             ],
             [
              0.3333333333333333,
              "#9c179e"
             ],
             [
              0.4444444444444444,
              "#bd3786"
             ],
             [
              0.5555555555555556,
              "#d8576b"
             ],
             [
              0.6666666666666666,
              "#ed7953"
             ],
             [
              0.7777777777777778,
              "#fb9f3a"
             ],
             [
              0.8888888888888888,
              "#fdca26"
             ],
             [
              1,
              "#f0f921"
             ]
            ],
            "type": "histogram2dcontour"
           }
          ],
          "mesh3d": [
           {
            "colorbar": {
             "outlinewidth": 0,
             "ticks": ""
            },
            "type": "mesh3d"
           }
          ],
          "parcoords": [
           {
            "line": {
             "colorbar": {
              "outlinewidth": 0,
              "ticks": ""
             }
            },
            "type": "parcoords"
           }
          ],
          "pie": [
           {
            "automargin": true,
            "type": "pie"
           }
          ],
          "scatter": [
           {
            "fillpattern": {
             "fillmode": "overlay",
             "size": 10,
             "solidity": 0.2
            },
            "type": "scatter"
           }
          ],
          "scatter3d": [
           {
            "line": {
             "colorbar": {
              "outlinewidth": 0,
              "ticks": ""
             }
            },
            "marker": {
             "colorbar": {
              "outlinewidth": 0,
              "ticks": ""
             }
            },
            "type": "scatter3d"
           }
          ],
          "scattercarpet": [
           {
            "marker": {
             "colorbar": {
              "outlinewidth": 0,
              "ticks": ""
             }
            },
            "type": "scattercarpet"
           }
          ],
          "scattergeo": [
           {
            "marker": {
             "colorbar": {
              "outlinewidth": 0,
              "ticks": ""
             }
            },
            "type": "scattergeo"
           }
          ],
          "scattergl": [
           {
            "marker": {
             "colorbar": {
              "outlinewidth": 0,
              "ticks": ""
             }
            },
            "type": "scattergl"
           }
          ],
          "scattermap": [
           {
            "marker": {
             "colorbar": {
              "outlinewidth": 0,
              "ticks": ""
             }
            },
            "type": "scattermap"
           }
          ],
          "scattermapbox": [
           {
            "marker": {
             "colorbar": {
              "outlinewidth": 0,
              "ticks": ""
             }
            },
            "type": "scattermapbox"
           }
          ],
          "scatterpolar": [
           {
            "marker": {
             "colorbar": {
              "outlinewidth": 0,
              "ticks": ""
             }
            },
            "type": "scatterpolar"
           }
          ],
          "scatterpolargl": [
           {
            "marker": {
             "colorbar": {
              "outlinewidth": 0,
              "ticks": ""
             }
            },
            "type": "scatterpolargl"
           }
          ],
          "scatterternary": [
           {
            "marker": {
             "colorbar": {
              "outlinewidth": 0,
              "ticks": ""
             }
            },
            "type": "scatterternary"
           }
          ],
          "surface": [
           {
            "colorbar": {
             "outlinewidth": 0,
             "ticks": ""
            },
            "colorscale": [
             [
              0,
              "#0d0887"
             ],
             [
              0.1111111111111111,
              "#46039f"
             ],
             [
              0.2222222222222222,
              "#7201a8"
             ],
             [
              0.3333333333333333,
              "#9c179e"
             ],
             [
              0.4444444444444444,
              "#bd3786"
             ],
             [
              0.5555555555555556,
              "#d8576b"
             ],
             [
              0.6666666666666666,
              "#ed7953"
             ],
             [
              0.7777777777777778,
              "#fb9f3a"
             ],
             [
              0.8888888888888888,
              "#fdca26"
             ],
             [
              1,
              "#f0f921"
             ]
            ],
            "type": "surface"
           }
          ],
          "table": [
           {
            "cells": {
             "fill": {
              "color": "#EBF0F8"
             },
             "line": {
              "color": "white"
             }
            },
            "header": {
             "fill": {
              "color": "#C8D4E3"
             },
             "line": {
              "color": "white"
             }
            },
            "type": "table"
           }
          ]
         },
         "layout": {
          "annotationdefaults": {
           "arrowcolor": "#2a3f5f",
           "arrowhead": 0,
           "arrowwidth": 1
          },
          "autotypenumbers": "strict",
          "coloraxis": {
           "colorbar": {
            "outlinewidth": 0,
            "ticks": ""
           }
          },
          "colorscale": {
           "diverging": [
            [
             0,
             "#8e0152"
            ],
            [
             0.1,
             "#c51b7d"
            ],
            [
             0.2,
             "#de77ae"
            ],
            [
             0.3,
             "#f1b6da"
            ],
            [
             0.4,
             "#fde0ef"
            ],
            [
             0.5,
             "#f7f7f7"
            ],
            [
             0.6,
             "#e6f5d0"
            ],
            [
             0.7,
             "#b8e186"
            ],
            [
             0.8,
             "#7fbc41"
            ],
            [
             0.9,
             "#4d9221"
            ],
            [
             1,
             "#276419"
            ]
           ],
           "sequential": [
            [
             0,
             "#0d0887"
            ],
            [
             0.1111111111111111,
             "#46039f"
            ],
            [
             0.2222222222222222,
             "#7201a8"
            ],
            [
             0.3333333333333333,
             "#9c179e"
            ],
            [
             0.4444444444444444,
             "#bd3786"
            ],
            [
             0.5555555555555556,
             "#d8576b"
            ],
            [
             0.6666666666666666,
             "#ed7953"
            ],
            [
             0.7777777777777778,
             "#fb9f3a"
            ],
            [
             0.8888888888888888,
             "#fdca26"
            ],
            [
             1,
             "#f0f921"
            ]
           ],
           "sequentialminus": [
            [
             0,
             "#0d0887"
            ],
            [
             0.1111111111111111,
             "#46039f"
            ],
            [
             0.2222222222222222,
             "#7201a8"
            ],
            [
             0.3333333333333333,
             "#9c179e"
            ],
            [
             0.4444444444444444,
             "#bd3786"
            ],
            [
             0.5555555555555556,
             "#d8576b"
            ],
            [
             0.6666666666666666,
             "#ed7953"
            ],
            [
             0.7777777777777778,
             "#fb9f3a"
            ],
            [
             0.8888888888888888,
             "#fdca26"
            ],
            [
             1,
             "#f0f921"
            ]
           ]
          },
          "colorway": [
           "#636efa",
           "#EF553B",
           "#00cc96",
           "#ab63fa",
           "#FFA15A",
           "#19d3f3",
           "#FF6692",
           "#B6E880",
           "#FF97FF",
           "#FECB52"
          ],
          "font": {
           "color": "#2a3f5f"
          },
          "geo": {
           "bgcolor": "white",
           "lakecolor": "white",
           "landcolor": "#E5ECF6",
           "showlakes": true,
           "showland": true,
           "subunitcolor": "white"
          },
          "hoverlabel": {
           "align": "left"
          },
          "hovermode": "closest",
          "mapbox": {
           "style": "light"
          },
          "paper_bgcolor": "white",
          "plot_bgcolor": "#E5ECF6",
          "polar": {
           "angularaxis": {
            "gridcolor": "white",
            "linecolor": "white",
            "ticks": ""
           },
           "bgcolor": "#E5ECF6",
           "radialaxis": {
            "gridcolor": "white",
            "linecolor": "white",
            "ticks": ""
           }
          },
          "scene": {
           "xaxis": {
            "backgroundcolor": "#E5ECF6",
            "gridcolor": "white",
            "gridwidth": 2,
            "linecolor": "white",
            "showbackground": true,
            "ticks": "",
            "zerolinecolor": "white"
           },
           "yaxis": {
            "backgroundcolor": "#E5ECF6",
            "gridcolor": "white",
            "gridwidth": 2,
            "linecolor": "white",
            "showbackground": true,
            "ticks": "",
            "zerolinecolor": "white"
           },
           "zaxis": {
            "backgroundcolor": "#E5ECF6",
            "gridcolor": "white",
            "gridwidth": 2,
            "linecolor": "white",
            "showbackground": true,
            "ticks": "",
            "zerolinecolor": "white"
           }
          },
          "shapedefaults": {
           "line": {
            "color": "#2a3f5f"
           }
          },
          "ternary": {
           "aaxis": {
            "gridcolor": "white",
            "linecolor": "white",
            "ticks": ""
           },
           "baxis": {
            "gridcolor": "white",
            "linecolor": "white",
            "ticks": ""
           },
           "bgcolor": "#E5ECF6",
           "caxis": {
            "gridcolor": "white",
            "linecolor": "white",
            "ticks": ""
           }
          },
          "title": {
           "x": 0.05
          },
          "xaxis": {
           "automargin": true,
           "gridcolor": "white",
           "linecolor": "white",
           "ticks": "",
           "title": {
            "standoff": 15
           },
           "zerolinecolor": "white",
           "zerolinewidth": 2
          },
          "yaxis": {
           "automargin": true,
           "gridcolor": "white",
           "linecolor": "white",
           "ticks": "",
           "title": {
            "standoff": 15
           },
           "zerolinecolor": "white",
           "zerolinewidth": 2
          }
         }
        },
        "title": {
         "text": "Hierarchical View of Revenue by Channel and Star Rating"
        }
       }
      }
     },
     "metadata": {},
     "output_type": "display_data"
    }
   ],
   "source": [
    "df_confirmed = df[df['is_cancelled'] == 0]\n",
    "\n",
    "fig = px.treemap(df_confirmed, \n",
    "                 path=[px.Constant(\"All Channels\"), 'booking_channel', 'star_rating'], \n",
    "                 values='booking_value',\n",
    "                 color='avg_daily_rate',\n",
    "                 hover_data=['star_rating'],\n",
    "                 color_continuous_scale='YlGnBu',\n",
    "                 title='Hierarchical View of Revenue by Channel and Star Rating')\n",
    "\n",
    "fig.update_layout(margin = dict(t=50, l=25, r=25, b=25))\n",
    "fig.show()\n"
   ]
  },
  {
   "cell_type": "markdown",
   "metadata": {},
   "source": [
    "### 2. Cancellation Risk Score\n",
    "\n",
    "To make our analysis more actionable, we can create a `CancellationRiskScore`. This is a simple, rule-based score that quantifies how likely a booking is to be cancelled based on the risk factors we've identified.\n",
    "\n",
    "**Scoring Logic**:\n",
    "*   **Lead Time**: +1 point if booked > 90 days in advance.\n",
    "*   **Channel**: +1 point if booked via 'Online Travel Agent'.\n",
    "*   **Hotel Tier**: +1 point if it's a 5-star hotel.\n",
    "\n",
    "A higher score indicates a higher risk of cancellation.\n"
   ]
  },
  {
   "cell_type": "code",
   "execution_count": 3,
   "metadata": {},
   "outputs": [
    {
     "data": {
      "image/png": "[encoded data removed]",
      "text/plain": [
       "<Figure size 1000x600 with 1 Axes>"
      ]
     },
     "metadata": {},
     "output_type": "display_data"
    }
   ],
   "source": [
    "def calculate_risk_score(row):\n",
    "    score = 0\n",
    "    # Convert date strings to datetime objects and calculate days before check-in\n",
    "    booking_date = pd.to_datetime(row['booking_date'])\n",
    "    check_in_date = pd.to_datetime(row['check_in_date'])\n",
    "    days_before_checkin = (check_in_date - booking_date).days\n",
    "    if days_before_checkin > 90:\n",
    "        score += 1\n",
    "    if row['booking_channel'] == 'Online Travel Agent':\n",
    "        score += 1\n",
    "    if row['star_rating'] == 5:\n",
    "        score += 1\n",
    "    return score\n",
    "\n",
    "df['CancellationRiskScore'] = df.apply(calculate_risk_score, axis=1)\n",
    "\n",
    "risk_analysis = df.groupby('CancellationRiskScore')['is_cancelled'].mean() * 100\n",
    "\n",
    "plt.figure(figsize=(10, 6))\n",
    "risk_analysis.plot(kind='bar', color='salmon')\n",
    "plt.title('Cancellation Rate Increases with Risk Score')\n",
    "plt.xlabel('Cancellation Risk Score')\n",
    "plt.ylabel('Actual Cancellation Rate (%)')\n",
    "plt.xticks(rotation=0)\n",
    "plt.grid(axis='y', linestyle='--')\n",
    "plt.show()\n"
   ]
  },
  {
   "cell_type": "markdown",
   "metadata": {},
   "source": [
    "### 3. High-Value Guest Profile\n",
    "\n",
    "Finally, let's identify our \"ideal\" or \"high-value\" guests. These are customers who bring in significant revenue and have a low risk of cancelling.\n",
    "\n",
    "**Definition**:\n",
    "*   **Confirmed Booking**: `is_cancelled == 0`\n",
    "*   **High Revenue**: `total_booking_value` is in the top 25% (75th percentile) of all bookings.\n",
    "\n",
    "By analyzing the characteristics of this group, we can create a profile to target in marketing campaigns.\n"
   ]
  },
  {
   "cell_type": "code",
   "execution_count": 4,
   "metadata": {},
   "outputs": [
    {
     "data": {
      "image/png": "[encoded data removed]",
      "text/plain": [
       "<Figure size 2200x700 with 3 Axes>"
      ]
     },
     "metadata": {},
     "output_type": "display_data"
    }
   ],
   "source": [
    "revenue_threshold = df['booking_value'].quantile(0.75)\n",
    "\n",
    "high_value_guests = df[\n",
    "    (df['is_cancelled'] == 0) & \n",
    "    (df['booking_value'] >= revenue_threshold)\n",
    "]\n",
    "\n",
    "fig, axes = plt.subplots(1, 3, figsize=(22, 7))\n",
    "fig.suptitle('Profile of High-Value Guests', fontsize=16)\n",
    "\n",
    "sns.countplot(ax=axes[0], data=high_value_guests, x='booking_channel', order=df['booking_channel'].value_counts().index)\n",
    "axes[0].set_title('Booking Channel')\n",
    "axes[0].tick_params(axis='x', rotation=45)\n",
    "\n",
    "sns.countplot(ax=axes[1], data=high_value_guests, x='star_rating')\n",
    "axes[1].set_title('Hotel Star Rating')\n",
    "\n",
    "sns.histplot(high_value_guests['length_of_stay'], ax=axes[2], bins=15, kde=True)\n",
    "axes[2].set_title('Length of Stay')\n",
    "axes[2].set_xlim(0, 15)\n",
    "\n",
    "plt.tight_layout(rect=[0, 0, 1, 0.96])\n",
    "plt.show()\n"
   ]
  },
  {
   "cell_type": "code",
   "execution_count": null,
   "metadata": {},
   "outputs": [],
   "source": []
  }
 ],
 "metadata": {
  "kernelspec": {
   "display_name": "Python 3 (ipykernel)",
   "language": "python",
   "name": "python3"
  },
  "language_info": {
   "codemirror_mode": {
    "name": "ipython",
    "version": 3
   },
   "file_extension": ".py",
   "mimetype": "text/x-python",
   "name": "python",
   "nbconvert_exporter": "python",
   "pygments_lexer": "ipython3",
   "version": "3.10.9"
  }
 },
 "nbformat": 4,
 "nbformat_minor": 4
}
